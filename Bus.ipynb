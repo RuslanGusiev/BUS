{
 "cells": [
  {
   "cell_type": "code",
   "execution_count": 17,
   "metadata": {},
   "outputs": [
    {
     "name": "stdout",
     "output_type": "stream",
     "text": [
      "4\n",
      "Stop # 1   5\n",
      "Stop # 2   10\n",
      "Stop # 3   13\n",
      "Stop # 4   17\n",
      "Maximum occupation of the bus: 17\n",
      "Average occupation =  11.25\n",
      "Standard Deviation =  4.380353866983808\n"
     ]
    }
   ],
   "source": [
    "import numpy as np\n",
    "\n",
    "number = 0\n",
    "stop = 0\n",
    "stops = [(5, 0), (6, 1), (5, 2), (7, 3)]\n",
    "new_list = []\n",
    "print(len(stops))\n",
    "for enter, exit in stops:\n",
    "    number += enter - exit\n",
    "    stop += 1\n",
    "    print('Stop #',stop,' ', number)\n",
    "    new_list.append(number)\n",
    "print('Maximum occupation of the bus:', max(new_list))\n",
    "print('Average occupation = ', np.mean(new_list))\n",
    "print('Standard Deviation = ', np.std(new_list))"
   ]
  },
  {
   "cell_type": "code",
   "execution_count": null,
   "metadata": {},
   "outputs": [],
   "source": []
  }
 ],
 "metadata": {
  "kernelspec": {
   "display_name": "Python 3",
   "language": "python",
   "name": "python3"
  },
  "language_info": {
   "codemirror_mode": {
    "name": "ipython",
    "version": 3
   },
   "file_extension": ".py",
   "mimetype": "text/x-python",
   "name": "python",
   "nbconvert_exporter": "python",
   "pygments_lexer": "ipython3",
   "version": "3.7.3"
  }
 },
 "nbformat": 4,
 "nbformat_minor": 2
}
